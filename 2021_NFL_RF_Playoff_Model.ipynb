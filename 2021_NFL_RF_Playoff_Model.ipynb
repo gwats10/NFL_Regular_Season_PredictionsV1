{
 "cells": [
  {
   "cell_type": "code",
   "execution_count": 1,
   "metadata": {},
   "outputs": [
    {
     "name": "stdout",
     "output_type": "stream",
     "text": [
      "(512, 20)\n"
     ]
    },
    {
     "name": "stderr",
     "output_type": "stream",
     "text": [
      "/Users/m31781/opt/anaconda3/lib/python3.8/site-packages/pandas/core/frame.py:2963: SettingWithCopyWarning: \n",
      "A value is trying to be set on a copy of a slice from a DataFrame.\n",
      "Try using .loc[row_indexer,col_indexer] = value instead\n",
      "\n",
      "See the caveats in the documentation: https://pandas.pydata.org/pandas-docs/stable/user_guide/indexing.html#returning-a-view-versus-a-copy\n",
      "  self[k1] = value[k2]\n"
     ]
    },
    {
     "data": {
      "text/html": [
       "<div>\n",
       "<style scoped>\n",
       "    .dataframe tbody tr th:only-of-type {\n",
       "        vertical-align: middle;\n",
       "    }\n",
       "\n",
       "    .dataframe tbody tr th {\n",
       "        vertical-align: top;\n",
       "    }\n",
       "\n",
       "    .dataframe thead th {\n",
       "        text-align: right;\n",
       "    }\n",
       "</style>\n",
       "<table border=\"1\" class=\"dataframe\">\n",
       "  <thead>\n",
       "    <tr style=\"text-align: right;\">\n",
       "      <th></th>\n",
       "      <th>TM_Score</th>\n",
       "      <th>O_1stD</th>\n",
       "      <th>O_Tot_Yd</th>\n",
       "      <th>O_P_Yd</th>\n",
       "      <th>O_R_Yd</th>\n",
       "      <th>O_TO</th>\n",
       "      <th>D_1stD</th>\n",
       "      <th>D_Tot_Yd</th>\n",
       "      <th>D_P_Yd</th>\n",
       "      <th>D_R_Yd</th>\n",
       "      <th>...</th>\n",
       "      <th>Opp_New Orleans Saints</th>\n",
       "      <th>Opp_New York Giants</th>\n",
       "      <th>Opp_New York Jets</th>\n",
       "      <th>Opp_Philadelphia Eagles</th>\n",
       "      <th>Opp_Pittsburgh Steelers</th>\n",
       "      <th>Opp_San Francisco 49ers</th>\n",
       "      <th>Opp_Seattle Seahawks</th>\n",
       "      <th>Opp_Tampa Bay Buccaneers</th>\n",
       "      <th>Opp_Tennessee Titans</th>\n",
       "      <th>Opp_Washington Football Team</th>\n",
       "    </tr>\n",
       "  </thead>\n",
       "  <tbody>\n",
       "    <tr>\n",
       "      <th>0</th>\n",
       "      <td>17</td>\n",
       "      <td>240</td>\n",
       "      <td>4064</td>\n",
       "      <td>3232</td>\n",
       "      <td>832</td>\n",
       "      <td>32</td>\n",
       "      <td>496</td>\n",
       "      <td>6464</td>\n",
       "      <td>4896</td>\n",
       "      <td>1568</td>\n",
       "      <td>...</td>\n",
       "      <td>0</td>\n",
       "      <td>0</td>\n",
       "      <td>0</td>\n",
       "      <td>0</td>\n",
       "      <td>0</td>\n",
       "      <td>0</td>\n",
       "      <td>0</td>\n",
       "      <td>0</td>\n",
       "      <td>0</td>\n",
       "      <td>0</td>\n",
       "    </tr>\n",
       "    <tr>\n",
       "      <th>1</th>\n",
       "      <td>13</td>\n",
       "      <td>272</td>\n",
       "      <td>4432</td>\n",
       "      <td>2768</td>\n",
       "      <td>1664</td>\n",
       "      <td>0</td>\n",
       "      <td>272</td>\n",
       "      <td>5744</td>\n",
       "      <td>2832</td>\n",
       "      <td>2912</td>\n",
       "      <td>...</td>\n",
       "      <td>0</td>\n",
       "      <td>0</td>\n",
       "      <td>0</td>\n",
       "      <td>0</td>\n",
       "      <td>0</td>\n",
       "      <td>1</td>\n",
       "      <td>0</td>\n",
       "      <td>0</td>\n",
       "      <td>0</td>\n",
       "      <td>0</td>\n",
       "    </tr>\n",
       "    <tr>\n",
       "      <th>2</th>\n",
       "      <td>7</td>\n",
       "      <td>240</td>\n",
       "      <td>4160</td>\n",
       "      <td>2416</td>\n",
       "      <td>1744</td>\n",
       "      <td>48</td>\n",
       "      <td>336</td>\n",
       "      <td>5648</td>\n",
       "      <td>3744</td>\n",
       "      <td>1904</td>\n",
       "      <td>...</td>\n",
       "      <td>0</td>\n",
       "      <td>0</td>\n",
       "      <td>0</td>\n",
       "      <td>0</td>\n",
       "      <td>0</td>\n",
       "      <td>0</td>\n",
       "      <td>0</td>\n",
       "      <td>0</td>\n",
       "      <td>0</td>\n",
       "      <td>0</td>\n",
       "    </tr>\n",
       "    <tr>\n",
       "      <th>3</th>\n",
       "      <td>28</td>\n",
       "      <td>288</td>\n",
       "      <td>5136</td>\n",
       "      <td>3072</td>\n",
       "      <td>2064</td>\n",
       "      <td>0</td>\n",
       "      <td>336</td>\n",
       "      <td>5744</td>\n",
       "      <td>3872</td>\n",
       "      <td>1872</td>\n",
       "      <td>...</td>\n",
       "      <td>0</td>\n",
       "      <td>0</td>\n",
       "      <td>0</td>\n",
       "      <td>0</td>\n",
       "      <td>0</td>\n",
       "      <td>0</td>\n",
       "      <td>0</td>\n",
       "      <td>0</td>\n",
       "      <td>0</td>\n",
       "      <td>0</td>\n",
       "    </tr>\n",
       "    <tr>\n",
       "      <th>4</th>\n",
       "      <td>10</td>\n",
       "      <td>336</td>\n",
       "      <td>4560</td>\n",
       "      <td>2592</td>\n",
       "      <td>1968</td>\n",
       "      <td>0</td>\n",
       "      <td>448</td>\n",
       "      <td>7936</td>\n",
       "      <td>5904</td>\n",
       "      <td>2032</td>\n",
       "      <td>...</td>\n",
       "      <td>0</td>\n",
       "      <td>0</td>\n",
       "      <td>0</td>\n",
       "      <td>0</td>\n",
       "      <td>0</td>\n",
       "      <td>0</td>\n",
       "      <td>0</td>\n",
       "      <td>0</td>\n",
       "      <td>0</td>\n",
       "      <td>0</td>\n",
       "    </tr>\n",
       "  </tbody>\n",
       "</table>\n",
       "<p>5 rows × 78 columns</p>\n",
       "</div>"
      ],
      "text/plain": [
       "   TM_Score  O_1stD  O_Tot_Yd  O_P_Yd  O_R_Yd  O_TO  D_1stD  D_Tot_Yd  D_P_Yd  \\\n",
       "0        17     240      4064    3232     832    32     496      6464    4896   \n",
       "1        13     272      4432    2768    1664     0     272      5744    2832   \n",
       "2         7     240      4160    2416    1744    48     336      5648    3744   \n",
       "3        28     288      5136    3072    2064     0     336      5744    3872   \n",
       "4        10     336      4560    2592    1968     0     448      7936    5904   \n",
       "\n",
       "   D_R_Yd  ...  Opp_New Orleans Saints  Opp_New York Giants  \\\n",
       "0    1568  ...                       0                    0   \n",
       "1    2912  ...                       0                    0   \n",
       "2    1904  ...                       0                    0   \n",
       "3    1872  ...                       0                    0   \n",
       "4    2032  ...                       0                    0   \n",
       "\n",
       "   Opp_New York Jets  Opp_Philadelphia Eagles  Opp_Pittsburgh Steelers  \\\n",
       "0                  0                        0                        0   \n",
       "1                  0                        0                        0   \n",
       "2                  0                        0                        0   \n",
       "3                  0                        0                        0   \n",
       "4                  0                        0                        0   \n",
       "\n",
       "   Opp_San Francisco 49ers  Opp_Seattle Seahawks  Opp_Tampa Bay Buccaneers  \\\n",
       "0                        0                     0                         0   \n",
       "1                        1                     0                         0   \n",
       "2                        0                     0                         0   \n",
       "3                        0                     0                         0   \n",
       "4                        0                     0                         0   \n",
       "\n",
       "   Opp_Tennessee Titans  Opp_Washington Football Team  \n",
       "0                     0                             0  \n",
       "1                     0                             0  \n",
       "2                     0                             0  \n",
       "3                     0                             0  \n",
       "4                     0                             0  \n",
       "\n",
       "[5 rows x 78 columns]"
      ]
     },
     "execution_count": 1,
     "metadata": {},
     "output_type": "execute_result"
    }
   ],
   "source": [
    "import pandas as pd\n",
    "import numpy as np\n",
    "import os \n",
    "\n",
    "path = r'/Users/m31781/Documents/NFL Decision Tree/Second Run'\n",
    "\n",
    "os.chdir(path)\n",
    "\n",
    "com_data = pd.read_csv('2020_NFL_Game_Data.csv')\n",
    "print(com_data.shape)\n",
    "com_data.head(5)\n",
    "\n",
    "#Change the stats to season statistics\n",
    "#Do I need to train include the teams into the data set? \n",
    "#train on the entire set\n",
    "# shape (465, 20)\n",
    "\n",
    "#get indexs of every team's data \n",
    "team_index = com_data['FULL_TEAM_NAME']\n",
    "\n",
    "#Remove Tm, Week, Opponent Score, Result\n",
    "rf_model_data = com_data[['FULL_TEAM_NAME', 'Opp', 'TM_Score', \n",
    "       'O_1stD', 'O_Tot_Yd', 'O_P_Yd', 'O_R_Yd', 'O_TO', 'D_1stD', 'D_Tot_Yd',\n",
    "       'D_P_Yd', 'D_R_Yd', 'D_TO', 'Home', 'ADA_Pred_Mean',\n",
    "       'LOG_Prediction']]\n",
    "\n",
    "#Change to season statistics\n",
    "season_stats = ['O_1stD', 'O_Tot_Yd', 'O_P_Yd', 'O_R_Yd', 'O_TO', 'D_1stD', 'D_Tot_Yd',\n",
    "       'D_P_Yd', 'D_R_Yd', 'D_TO']\n",
    "\n",
    "rf_model_data[season_stats] = rf_model_data[season_stats] * 16\n",
    "\n",
    "#get indexs of every team's data \n",
    "team_index = com_data['FULL_TEAM_NAME']\n",
    "\n",
    "#rf_model_data = rf_model_data.drop(['FULL_TEAM_NAME', 'Opp'], axis = 1) #run to remove team names\n",
    "rf_model_data = pd.get_dummies(rf_model_data)\n",
    "rf_model_data.head()"
   ]
  },
  {
   "cell_type": "markdown",
   "metadata": {},
   "source": [
    "# MODELING"
   ]
  },
  {
   "cell_type": "code",
   "execution_count": 2,
   "metadata": {},
   "outputs": [
    {
     "name": "stderr",
     "output_type": "stream",
     "text": [
      "<ipython-input-2-dbea918283e3>:13: DataConversionWarning: A column-vector y was passed when a 1d array was expected. Please change the shape of y to (n_samples,), for example using ravel().\n",
      "  RF_model.fit(X_train, y_train)\n"
     ]
    },
    {
     "name": "stdout",
     "output_type": "stream",
     "text": [
      "6.249230769230769\n"
     ]
    }
   ],
   "source": [
    "#Random forest\n",
    "from sklearn.model_selection import train_test_split\n",
    "from sklearn.ensemble import RandomForestRegressor\n",
    "from sklearn.metrics import r2_score, mean_squared_error, mean_absolute_error\n",
    "\n",
    "#Data preprocessing\n",
    "X = rf_model_data.drop('TM_Score', axis=1).values\n",
    "y = rf_model_data['TM_Score'].values.reshape(-1, 1)\n",
    "X_train, X_test, y_train, y_test = train_test_split(X, y, test_size=0.05)\n",
    "\n",
    "RF_model = RandomForestRegressor(n_estimators = 2000)\n",
    "\n",
    "RF_model.fit(X_train, y_train)\n",
    "\n",
    "y_pred = RF_model.predict(X_test)\n",
    "\n",
    "print(mean_absolute_error(y_test, y_pred))"
   ]
  },
  {
   "cell_type": "code",
   "execution_count": 23,
   "metadata": {},
   "outputs": [],
   "source": [
    "pd.options.display.max_rows = None\n",
    "\n",
    "importance = RF_model.feature_importances_\n",
    "\n",
    "feature_names = rf_model_data.drop('TM_Score', axis=1).columns\n",
    "\n",
    "d = {'Var_Name': feature_names, 'Imp': importance}\n",
    "df = pd.DataFrame(data=d)\n",
    "df = df.sort_values(by = ['Imp'], ascending = False).reset_index(drop = True)\n",
    "df.head(15)\n",
    "\n",
    "#write a function that returns the scores of two teams playing each other\n",
    "\n",
    "pd.options.display.max_columns = None\n",
    "\n",
    "#Create playoff test dataset from season averages \n",
    "\n",
    "def Score_Predictor(home_team, away_team):\n",
    "    team1 = home_team #Home Team\n",
    "    team2 = away_team #Away Team\n",
    "\n",
    "    team1_data = rf_model_data[com_data['FULL_TEAM_NAME'] == team1].drop('TM_Score', axis=1).reset_index(drop = True)\n",
    "    team2_data = rf_model_data[com_data['FULL_TEAM_NAME'] == team2].drop('TM_Score', axis=1).reset_index(drop = True)\n",
    "\n",
    "    week_slice = slice(11,16)\n",
    "    \n",
    "    #1 #Remove if running without team names\n",
    "    team1_test = pd.DataFrame(team1_data[week_slice].mean(axis = 0)).T #select weeks to use as average\n",
    "    team1_test\n",
    "    opp_columns = team1_test.filter(like='Opp').columns\n",
    "\n",
    "    team1_test[opp_columns] = 0\n",
    "    team1_test['Opp_' + team2] = 1\n",
    "    team1_test['Home'] = 0\n",
    "\n",
    "    #2\n",
    "    team2_test = pd.DataFrame(team2_data[week_slice].mean(axis = 0)).T #select weeks to use as average\n",
    "    opp_columns = team2_test.filter(like='Opp').columns\n",
    "\n",
    "    team2_test[opp_columns] = 0\n",
    "    team2_test['Opp_' + team1] = 1\n",
    "    team2_test['Home'] = 0 #change to remove home field advantage\n",
    "\n",
    "    #head to head matchup\n",
    "    team1_test[['D_1stD', 'D_Tot_Yd', 'D_P_Yd', 'D_R_Yd', 'D_TO']] = team2_test[['O_1stD', 'O_Tot_Yd', 'O_P_Yd', 'O_R_Yd', 'O_TO']]\n",
    "    team2_test[['D_1stD', 'D_Tot_Yd', 'D_P_Yd', 'D_R_Yd', 'D_TO']] = team1_test[['O_1stD', 'O_Tot_Yd', 'O_P_Yd', 'O_R_Yd', 'O_TO']]\n",
    "\n",
    "    X_Playoff_test = pd.concat([team1_test, team2_test])\n",
    "    #X_Playoff_test = X_Playoff_test.iloc[:, 0:13] #run without team names\n",
    "    #print(X_Playoff_test)\n",
    "\n",
    "    scores = RF_model.predict(X_Playoff_test)\n",
    "    print(team1, 'will score', round(scores[0], 1))\n",
    "    print(team2, 'will score', round(scores[1], 1))\n",
    "    \n",
    "    if scores[0] > scores[1]:\n",
    "        winner = team1\n",
    "    else:\n",
    "        winner = team2\n",
    "        \n",
    "    print(winner, 'are the WINNERS!!!!')\n",
    "    \n",
    "    return scores, winner"
   ]
  },
  {
   "cell_type": "code",
   "execution_count": 4,
   "metadata": {},
   "outputs": [
    {
     "name": "stdout",
     "output_type": "stream",
     "text": [
      "(486, 1)\n",
      "(26, 1)\n",
      "\n"
     ]
    }
   ],
   "source": [
    "print(y_train.shape)\n",
    "print(y_test.shape)\n",
    "\n",
    "print()"
   ]
  },
  {
   "cell_type": "markdown",
   "metadata": {},
   "source": [
    "# ROUND 1"
   ]
  },
  {
   "cell_type": "markdown",
   "metadata": {},
   "source": [
    "## AFC"
   ]
  },
  {
   "cell_type": "code",
   "execution_count": 5,
   "metadata": {},
   "outputs": [
    {
     "name": "stdout",
     "output_type": "stream",
     "text": [
      "Indianapolis Colts will score 29.4\n",
      "Buffalo Bills will score 33.1\n",
      "Buffalo Bills are the WINNERS!!!!\n"
     ]
    }
   ],
   "source": [
    "#7 at #2\n",
    "scores, winner = Score_Predictor('Indianapolis Colts', 'Buffalo Bills')"
   ]
  },
  {
   "cell_type": "code",
   "execution_count": 6,
   "metadata": {},
   "outputs": [
    {
     "name": "stdout",
     "output_type": "stream",
     "text": [
      "Baltimore Ravens will score 29.7\n",
      "Tennessee Titans will score 26.4\n",
      "Baltimore Ravens are the WINNERS!!!!\n"
     ]
    }
   ],
   "source": [
    "#5 at #4\n",
    "scores, winner = Score_Predictor('Baltimore Ravens', 'Tennessee Titans')"
   ]
  },
  {
   "cell_type": "code",
   "execution_count": 7,
   "metadata": {},
   "outputs": [
    {
     "name": "stdout",
     "output_type": "stream",
     "text": [
      "Cleveland Browns will score 28.0\n",
      "Pittsburgh Steelers will score 22.4\n",
      "Cleveland Browns are the WINNERS!!!!\n"
     ]
    }
   ],
   "source": [
    "#6 at #3\n",
    "scores, winner = Score_Predictor('Cleveland Browns', 'Pittsburgh Steelers')"
   ]
  },
  {
   "cell_type": "markdown",
   "metadata": {},
   "source": [
    "## NFC"
   ]
  },
  {
   "cell_type": "code",
   "execution_count": 8,
   "metadata": {},
   "outputs": [
    {
     "name": "stdout",
     "output_type": "stream",
     "text": [
      "Los Angeles Rams will score 22.1\n",
      "Seattle Seahawks will score 21.1\n",
      "Los Angeles Rams are the WINNERS!!!!\n"
     ]
    }
   ],
   "source": [
    "#6 at #3\n",
    "scores, winner = Score_Predictor('Los Angeles Rams', 'Seattle Seahawks')"
   ]
  },
  {
   "cell_type": "code",
   "execution_count": 9,
   "metadata": {},
   "outputs": [
    {
     "name": "stdout",
     "output_type": "stream",
     "text": [
      "Tampa Bay Buccaneers will score 30.2\n",
      "Washington Football Team will score 21.1\n",
      "Tampa Bay Buccaneers are the WINNERS!!!!\n"
     ]
    }
   ],
   "source": [
    "#5 at #4\n",
    "scores, winner = Score_Predictor('Tampa Bay Buccaneers', 'Washington Football Team')"
   ]
  },
  {
   "cell_type": "code",
   "execution_count": 10,
   "metadata": {},
   "outputs": [
    {
     "name": "stdout",
     "output_type": "stream",
     "text": [
      "Chicago Bears will score 27.8\n",
      "New Orleans Saints will score 26.2\n",
      "Chicago Bears are the WINNERS!!!!\n"
     ]
    }
   ],
   "source": [
    "#7 at #2\n",
    "scores, winner = Score_Predictor('Chicago Bears', 'New Orleans Saints')"
   ]
  },
  {
   "cell_type": "markdown",
   "metadata": {},
   "source": [
    "# Round 2"
   ]
  },
  {
   "cell_type": "markdown",
   "metadata": {},
   "source": [
    "## AFC"
   ]
  },
  {
   "cell_type": "code",
   "execution_count": 11,
   "metadata": {},
   "outputs": [
    {
     "name": "stdout",
     "output_type": "stream",
     "text": [
      "Baltimore Ravens will score 32.2\n",
      "Buffalo Bills will score 33.5\n",
      "Buffalo Bills are the WINNERS!!!!\n"
     ]
    }
   ],
   "source": [
    "#5 at #2\n",
    "scores, winner = Score_Predictor('Baltimore Ravens', 'Buffalo Bills')"
   ]
  },
  {
   "cell_type": "code",
   "execution_count": 12,
   "metadata": {},
   "outputs": [
    {
     "name": "stdout",
     "output_type": "stream",
     "text": [
      "Cleveland Browns will score 27.5\n",
      "Kansas City Chiefs will score 25.0\n",
      "Cleveland Browns are the WINNERS!!!!\n"
     ]
    }
   ],
   "source": [
    "#6 at #1\n",
    "scores, winner = Score_Predictor('Cleveland Browns', 'Kansas City Chiefs')"
   ]
  },
  {
   "cell_type": "markdown",
   "metadata": {},
   "source": [
    "## NFC"
   ]
  },
  {
   "cell_type": "code",
   "execution_count": 13,
   "metadata": {},
   "outputs": [
    {
     "name": "stdout",
     "output_type": "stream",
     "text": [
      "Tampa Bay Buccaneers will score 29.3\n",
      "New Orleans Saints will score 28.2\n",
      "Tampa Bay Buccaneers are the WINNERS!!!!\n"
     ]
    }
   ],
   "source": [
    "#5 at #2\n",
    "scores, winner = Score_Predictor('Tampa Bay Buccaneers', 'New Orleans Saints')"
   ]
  },
  {
   "cell_type": "code",
   "execution_count": 14,
   "metadata": {},
   "outputs": [
    {
     "name": "stdout",
     "output_type": "stream",
     "text": [
      "Los Angeles Rams will score 21.9\n",
      "Green Bay Packers will score 27.4\n",
      "Green Bay Packers are the WINNERS!!!!\n"
     ]
    }
   ],
   "source": [
    "#6 at #1\n",
    "scores, winner = Score_Predictor('Los Angeles Rams', 'Green Bay Packers')"
   ]
  },
  {
   "cell_type": "markdown",
   "metadata": {},
   "source": [
    "# Round 3"
   ]
  },
  {
   "cell_type": "markdown",
   "metadata": {},
   "source": [
    "## AFC"
   ]
  },
  {
   "cell_type": "code",
   "execution_count": 22,
   "metadata": {},
   "outputs": [
    {
     "name": "stdout",
     "output_type": "stream",
     "text": [
      "Buffalo Bills will score 33.6\n",
      "Kansas City Chiefs will score 26.7\n",
      "Buffalo Bills are the WINNERS!!!!\n"
     ]
    }
   ],
   "source": [
    "#AFC Championship Game\n",
    "scores, winner = Score_Predictor('Buffalo Bills', 'Kansas City Chiefs')"
   ]
  },
  {
   "cell_type": "markdown",
   "metadata": {},
   "source": [
    "## NFC"
   ]
  },
  {
   "cell_type": "code",
   "execution_count": 17,
   "metadata": {},
   "outputs": [
    {
     "name": "stdout",
     "output_type": "stream",
     "text": [
      "Tampa Bay Buccaneers will score 28.2\n",
      "Green Bay Packers will score 30.1\n",
      "Green Bay Packers are the WINNERS!!!!\n"
     ]
    }
   ],
   "source": [
    "#NFC Championship Game\n",
    "scores, winner = Score_Predictor('Tampa Bay Buccaneers', 'Green Bay Packers')"
   ]
  },
  {
   "cell_type": "markdown",
   "metadata": {},
   "source": [
    "# SUPERBOWL"
   ]
  },
  {
   "cell_type": "code",
   "execution_count": 27,
   "metadata": {},
   "outputs": [
    {
     "name": "stdout",
     "output_type": "stream",
     "text": [
      "Tampa Bay Buccaneers will score 29.4\n",
      "Kansas City Chiefs will score 25.8\n",
      "Tampa Bay Buccaneers are the WINNERS!!!!\n"
     ]
    }
   ],
   "source": [
    "#Superbowl\n",
    "scores, winner = Score_Predictor('Tampa Bay Buccaneers', 'Kansas City Chiefs')"
   ]
  }
 ],
 "metadata": {
  "kernelspec": {
   "display_name": "Python 3",
   "language": "python",
   "name": "python3"
  },
  "language_info": {
   "codemirror_mode": {
    "name": "ipython",
    "version": 3
   },
   "file_extension": ".py",
   "mimetype": "text/x-python",
   "name": "python",
   "nbconvert_exporter": "python",
   "pygments_lexer": "ipython3",
   "version": "3.8.3"
  }
 },
 "nbformat": 4,
 "nbformat_minor": 4
}
